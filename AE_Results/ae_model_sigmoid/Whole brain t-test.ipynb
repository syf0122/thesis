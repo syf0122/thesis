{
 "cells": [
  {
   "cell_type": "markdown",
   "id": "018e1ac4",
   "metadata": {},
   "source": [
    "# Import Libraries"
   ]
  },
  {
   "cell_type": "code",
   "execution_count": 1,
   "id": "764b9bd2",
   "metadata": {},
   "outputs": [],
   "source": [
    "import pandas as pd\n",
    "import numpy as np\n",
    "import statsmodels as sm\n",
    "from scipy import stats as st\n",
    "from bioinfokit.analys import stat\n",
    "import matplotlib.pyplot as plt"
   ]
  },
  {
   "cell_type": "markdown",
   "id": "8f0c7e2a",
   "metadata": {},
   "source": [
    "# Load Data\n"
   ]
  },
  {
   "cell_type": "code",
   "execution_count": 2,
   "id": "2ff2d57d",
   "metadata": {},
   "outputs": [
    {
     "name": "stdout",
     "output_type": "stream",
     "text": [
      "There are 50 subjects.\n",
      "For each subject, there are 14 sessions.\n",
      "For each session, there are 379 regional MSE.\n"
     ]
    }
   ],
   "source": [
    "subjects = [100610, 102311, 102816, 104416, 105923,\n",
    "            108323, 109123, 111514, 114823, 115017,\n",
    "            115825, 116726, 118225, 125525, 126426,\n",
    "            128935, 130114, 130518, 131217, 131722,\n",
    "            132118, 134627, 134829, 135124, 137128,\n",
    "            140117, 144226, 145834, 146129, 146432,\n",
    "            146735, 146937, 148133, 150423, 155938,\n",
    "            156334, 157336, 158035, 158136, 159239,\n",
    "            162935, 164131, 164636, 165436, 167036,\n",
    "            167440, 169040, 169343, 169444, 169747]\n",
    "mse_sub = []\n",
    "for sub in subjects:\n",
    "    loc = \"ae_MSE/\" + str(sub) + '_regional_MSE_20.csv'\n",
    "    df = pd.read_csv(loc,index_col=0)\n",
    "    mse_sub.append(df)    \n",
    "print('There are ' + str(len(mse_sub)) + ' subjects.')\n",
    "print('For each subject, there are ' + str(mse_sub[0].shape[0]) + ' sessions.')\n",
    "print('For each session, there are ' + str(mse_sub[0].shape[1]) + ' regional MSE.')"
   ]
  },
  {
   "cell_type": "code",
   "execution_count": 3,
   "id": "9a7fdf97",
   "metadata": {},
   "outputs": [
    {
     "data": {
      "text/html": [
       "<div>\n",
       "<style scoped>\n",
       "    .dataframe tbody tr th:only-of-type {\n",
       "        vertical-align: middle;\n",
       "    }\n",
       "\n",
       "    .dataframe tbody tr th {\n",
       "        vertical-align: top;\n",
       "    }\n",
       "\n",
       "    .dataframe thead th {\n",
       "        text-align: right;\n",
       "    }\n",
       "</style>\n",
       "<table border=\"1\" class=\"dataframe\">\n",
       "  <thead>\n",
       "    <tr style=\"text-align: right;\">\n",
       "      <th></th>\n",
       "      <th>L_V1</th>\n",
       "      <th>L_MST</th>\n",
       "      <th>L_V6</th>\n",
       "      <th>L_V2</th>\n",
       "      <th>L_V3</th>\n",
       "      <th>L_V4</th>\n",
       "      <th>L_V8</th>\n",
       "      <th>L_4</th>\n",
       "      <th>L_3b</th>\n",
       "      <th>L_FEF</th>\n",
       "      <th>...</th>\n",
       "      <th>diencephalon_right</th>\n",
       "      <th>hippocampus_left</th>\n",
       "      <th>hippocampus_right</th>\n",
       "      <th>pallidum_left</th>\n",
       "      <th>pallidum_right</th>\n",
       "      <th>putamen_left</th>\n",
       "      <th>putamen_right</th>\n",
       "      <th>thalamus_left</th>\n",
       "      <th>thalamus_right</th>\n",
       "      <th>brainStem</th>\n",
       "    </tr>\n",
       "  </thead>\n",
       "  <tbody>\n",
       "    <tr>\n",
       "      <th>movie1</th>\n",
       "      <td>0.011017</td>\n",
       "      <td>0.004830</td>\n",
       "      <td>0.010033</td>\n",
       "      <td>0.002520</td>\n",
       "      <td>0.002549</td>\n",
       "      <td>0.002499</td>\n",
       "      <td>0.004675</td>\n",
       "      <td>0.001577</td>\n",
       "      <td>0.003714</td>\n",
       "      <td>0.003422</td>\n",
       "      <td>...</td>\n",
       "      <td>0.005843</td>\n",
       "      <td>0.003384</td>\n",
       "      <td>0.003437</td>\n",
       "      <td>0.017844</td>\n",
       "      <td>0.019864</td>\n",
       "      <td>0.005246</td>\n",
       "      <td>0.007848</td>\n",
       "      <td>0.001474</td>\n",
       "      <td>0.001410</td>\n",
       "      <td>0.005820</td>\n",
       "    </tr>\n",
       "    <tr>\n",
       "      <th>movie2</th>\n",
       "      <td>0.008748</td>\n",
       "      <td>0.006574</td>\n",
       "      <td>0.007975</td>\n",
       "      <td>0.002636</td>\n",
       "      <td>0.002412</td>\n",
       "      <td>0.002034</td>\n",
       "      <td>0.005404</td>\n",
       "      <td>0.002158</td>\n",
       "      <td>0.003033</td>\n",
       "      <td>0.003041</td>\n",
       "      <td>...</td>\n",
       "      <td>0.004493</td>\n",
       "      <td>0.002857</td>\n",
       "      <td>0.002597</td>\n",
       "      <td>0.013452</td>\n",
       "      <td>0.015838</td>\n",
       "      <td>0.004227</td>\n",
       "      <td>0.005770</td>\n",
       "      <td>0.001527</td>\n",
       "      <td>0.001977</td>\n",
       "      <td>0.004744</td>\n",
       "    </tr>\n",
       "    <tr>\n",
       "      <th>movie3</th>\n",
       "      <td>0.009799</td>\n",
       "      <td>0.009289</td>\n",
       "      <td>0.010636</td>\n",
       "      <td>0.002339</td>\n",
       "      <td>0.002519</td>\n",
       "      <td>0.003128</td>\n",
       "      <td>0.006469</td>\n",
       "      <td>0.002617</td>\n",
       "      <td>0.004910</td>\n",
       "      <td>0.002943</td>\n",
       "      <td>...</td>\n",
       "      <td>0.003305</td>\n",
       "      <td>0.002180</td>\n",
       "      <td>0.003006</td>\n",
       "      <td>0.010232</td>\n",
       "      <td>0.011078</td>\n",
       "      <td>0.004280</td>\n",
       "      <td>0.005866</td>\n",
       "      <td>0.002262</td>\n",
       "      <td>0.002055</td>\n",
       "      <td>0.003329</td>\n",
       "    </tr>\n",
       "    <tr>\n",
       "      <th>movie4</th>\n",
       "      <td>0.007503</td>\n",
       "      <td>0.004619</td>\n",
       "      <td>0.007421</td>\n",
       "      <td>0.002797</td>\n",
       "      <td>0.002877</td>\n",
       "      <td>0.002225</td>\n",
       "      <td>0.005164</td>\n",
       "      <td>0.001651</td>\n",
       "      <td>0.004299</td>\n",
       "      <td>0.002739</td>\n",
       "      <td>...</td>\n",
       "      <td>0.004377</td>\n",
       "      <td>0.002289</td>\n",
       "      <td>0.002413</td>\n",
       "      <td>0.012134</td>\n",
       "      <td>0.013734</td>\n",
       "      <td>0.003404</td>\n",
       "      <td>0.004969</td>\n",
       "      <td>0.002021</td>\n",
       "      <td>0.001885</td>\n",
       "      <td>0.004006</td>\n",
       "    </tr>\n",
       "    <tr>\n",
       "      <th>rest1</th>\n",
       "      <td>0.006070</td>\n",
       "      <td>0.005455</td>\n",
       "      <td>0.005250</td>\n",
       "      <td>0.002382</td>\n",
       "      <td>0.002577</td>\n",
       "      <td>0.002186</td>\n",
       "      <td>0.004006</td>\n",
       "      <td>0.001900</td>\n",
       "      <td>0.003785</td>\n",
       "      <td>0.003163</td>\n",
       "      <td>...</td>\n",
       "      <td>0.004854</td>\n",
       "      <td>0.003145</td>\n",
       "      <td>0.003182</td>\n",
       "      <td>0.015413</td>\n",
       "      <td>0.017331</td>\n",
       "      <td>0.004585</td>\n",
       "      <td>0.006064</td>\n",
       "      <td>0.001673</td>\n",
       "      <td>0.001499</td>\n",
       "      <td>0.004793</td>\n",
       "    </tr>\n",
       "  </tbody>\n",
       "</table>\n",
       "<p>5 rows × 379 columns</p>\n",
       "</div>"
      ],
      "text/plain": [
       "            L_V1     L_MST      L_V6      L_V2      L_V3      L_V4      L_V8  \\\n",
       "movie1  0.011017  0.004830  0.010033  0.002520  0.002549  0.002499  0.004675   \n",
       "movie2  0.008748  0.006574  0.007975  0.002636  0.002412  0.002034  0.005404   \n",
       "movie3  0.009799  0.009289  0.010636  0.002339  0.002519  0.003128  0.006469   \n",
       "movie4  0.007503  0.004619  0.007421  0.002797  0.002877  0.002225  0.005164   \n",
       "rest1   0.006070  0.005455  0.005250  0.002382  0.002577  0.002186  0.004006   \n",
       "\n",
       "             L_4      L_3b     L_FEF  ...  diencephalon_right  \\\n",
       "movie1  0.001577  0.003714  0.003422  ...            0.005843   \n",
       "movie2  0.002158  0.003033  0.003041  ...            0.004493   \n",
       "movie3  0.002617  0.004910  0.002943  ...            0.003305   \n",
       "movie4  0.001651  0.004299  0.002739  ...            0.004377   \n",
       "rest1   0.001900  0.003785  0.003163  ...            0.004854   \n",
       "\n",
       "        hippocampus_left  hippocampus_right  pallidum_left  pallidum_right  \\\n",
       "movie1          0.003384           0.003437       0.017844        0.019864   \n",
       "movie2          0.002857           0.002597       0.013452        0.015838   \n",
       "movie3          0.002180           0.003006       0.010232        0.011078   \n",
       "movie4          0.002289           0.002413       0.012134        0.013734   \n",
       "rest1           0.003145           0.003182       0.015413        0.017331   \n",
       "\n",
       "        putamen_left  putamen_right  thalamus_left  thalamus_right  brainStem  \n",
       "movie1      0.005246       0.007848       0.001474        0.001410   0.005820  \n",
       "movie2      0.004227       0.005770       0.001527        0.001977   0.004744  \n",
       "movie3      0.004280       0.005866       0.002262        0.002055   0.003329  \n",
       "movie4      0.003404       0.004969       0.002021        0.001885   0.004006  \n",
       "rest1       0.004585       0.006064       0.001673        0.001499   0.004793  \n",
       "\n",
       "[5 rows x 379 columns]"
      ]
     },
     "execution_count": 3,
     "metadata": {},
     "output_type": "execute_result"
    }
   ],
   "source": [
    "mse_sub[0].head(5)"
   ]
  },
  {
   "cell_type": "code",
   "execution_count": 4,
   "id": "a7feab85",
   "metadata": {},
   "outputs": [
    {
     "data": {
      "image/png": "[encoded data removed]",
      "text/plain": [
       "<Figure size 432x288 with 1 Axes>"
      ]
     },
     "metadata": {
      "needs_background": "light"
     },
     "output_type": "display_data"
    }
   ],
   "source": [
    "plt.plot(np.arange(1,380), mse_sub[0].iloc[0], label='Movie1')\n",
    "plt.plot(np.arange(1,380), mse_sub[0].iloc[4], label='Rest1')\n",
    "plt.xlabel(\"Regions\")\n",
    "plt.ylabel('MSE')\n",
    "plt.legend()\n",
    "plt.savefig(\"100610.jpg\")"
   ]
  },
  {
   "cell_type": "markdown",
   "id": "597ff193",
   "metadata": {},
   "source": [
    "# Whole brain t-test\n"
   ]
  },
  {
   "cell_type": "code",
   "execution_count": 5,
   "id": "a472bb29",
   "metadata": {
    "scrolled": true
   },
   "outputs": [],
   "source": [
    "# calculate the whole brain mean MSE for each subject\n",
    "mean_mse = []\n",
    "\n",
    "for sub in mse_sub:\n",
    "    sub.mean(axis=1)\n",
    "    sub['AVG'] = sub.mean(axis=1)"
   ]
  },
  {
   "cell_type": "code",
   "execution_count": 6,
   "id": "20c5627f",
   "metadata": {
    "scrolled": true
   },
   "outputs": [
    {
     "data": {
      "text/html": [
       "<div>\n",
       "<style scoped>\n",
       "    .dataframe tbody tr th:only-of-type {\n",
       "        vertical-align: middle;\n",
       "    }\n",
       "\n",
       "    .dataframe tbody tr th {\n",
       "        vertical-align: top;\n",
       "    }\n",
       "\n",
       "    .dataframe thead th {\n",
       "        text-align: right;\n",
       "    }\n",
       "</style>\n",
       "<table border=\"1\" class=\"dataframe\">\n",
       "  <thead>\n",
       "    <tr style=\"text-align: right;\">\n",
       "      <th></th>\n",
       "      <th>L_V1</th>\n",
       "      <th>L_MST</th>\n",
       "      <th>L_V6</th>\n",
       "      <th>L_V2</th>\n",
       "      <th>L_V3</th>\n",
       "      <th>L_V4</th>\n",
       "      <th>L_V8</th>\n",
       "      <th>L_4</th>\n",
       "      <th>L_3b</th>\n",
       "      <th>L_FEF</th>\n",
       "      <th>...</th>\n",
       "      <th>hippocampus_left</th>\n",
       "      <th>hippocampus_right</th>\n",
       "      <th>pallidum_left</th>\n",
       "      <th>pallidum_right</th>\n",
       "      <th>putamen_left</th>\n",
       "      <th>putamen_right</th>\n",
       "      <th>thalamus_left</th>\n",
       "      <th>thalamus_right</th>\n",
       "      <th>brainStem</th>\n",
       "      <th>AVG</th>\n",
       "    </tr>\n",
       "  </thead>\n",
       "  <tbody>\n",
       "    <tr>\n",
       "      <th>movie1</th>\n",
       "      <td>0.010915</td>\n",
       "      <td>0.006951</td>\n",
       "      <td>0.011236</td>\n",
       "      <td>0.002412</td>\n",
       "      <td>0.003019</td>\n",
       "      <td>0.004317</td>\n",
       "      <td>0.006295</td>\n",
       "      <td>0.002570</td>\n",
       "      <td>0.003489</td>\n",
       "      <td>0.003482</td>\n",
       "      <td>...</td>\n",
       "      <td>0.002353</td>\n",
       "      <td>0.002499</td>\n",
       "      <td>0.007286</td>\n",
       "      <td>0.008486</td>\n",
       "      <td>0.003764</td>\n",
       "      <td>0.004628</td>\n",
       "      <td>0.003429</td>\n",
       "      <td>0.003717</td>\n",
       "      <td>0.002505</td>\n",
       "      <td>0.004564</td>\n",
       "    </tr>\n",
       "    <tr>\n",
       "      <th>movie2</th>\n",
       "      <td>0.011814</td>\n",
       "      <td>0.005093</td>\n",
       "      <td>0.012981</td>\n",
       "      <td>0.002458</td>\n",
       "      <td>0.003476</td>\n",
       "      <td>0.004133</td>\n",
       "      <td>0.004394</td>\n",
       "      <td>0.002304</td>\n",
       "      <td>0.004576</td>\n",
       "      <td>0.003166</td>\n",
       "      <td>...</td>\n",
       "      <td>0.001771</td>\n",
       "      <td>0.001712</td>\n",
       "      <td>0.002995</td>\n",
       "      <td>0.002696</td>\n",
       "      <td>0.002825</td>\n",
       "      <td>0.003162</td>\n",
       "      <td>0.002387</td>\n",
       "      <td>0.002684</td>\n",
       "      <td>0.001190</td>\n",
       "      <td>0.003852</td>\n",
       "    </tr>\n",
       "    <tr>\n",
       "      <th>movie3</th>\n",
       "      <td>0.006119</td>\n",
       "      <td>0.003706</td>\n",
       "      <td>0.005836</td>\n",
       "      <td>0.001073</td>\n",
       "      <td>0.001734</td>\n",
       "      <td>0.002481</td>\n",
       "      <td>0.003579</td>\n",
       "      <td>0.001503</td>\n",
       "      <td>0.002174</td>\n",
       "      <td>0.001582</td>\n",
       "      <td>...</td>\n",
       "      <td>0.001276</td>\n",
       "      <td>0.001430</td>\n",
       "      <td>0.001094</td>\n",
       "      <td>0.000761</td>\n",
       "      <td>0.001204</td>\n",
       "      <td>0.001206</td>\n",
       "      <td>0.001011</td>\n",
       "      <td>0.001329</td>\n",
       "      <td>0.000436</td>\n",
       "      <td>0.002498</td>\n",
       "    </tr>\n",
       "    <tr>\n",
       "      <th>movie4</th>\n",
       "      <td>0.006566</td>\n",
       "      <td>0.003047</td>\n",
       "      <td>0.004469</td>\n",
       "      <td>0.001145</td>\n",
       "      <td>0.001820</td>\n",
       "      <td>0.001947</td>\n",
       "      <td>0.002813</td>\n",
       "      <td>0.001386</td>\n",
       "      <td>0.002041</td>\n",
       "      <td>0.001208</td>\n",
       "      <td>...</td>\n",
       "      <td>0.001348</td>\n",
       "      <td>0.001681</td>\n",
       "      <td>0.001335</td>\n",
       "      <td>0.001207</td>\n",
       "      <td>0.001735</td>\n",
       "      <td>0.001611</td>\n",
       "      <td>0.001170</td>\n",
       "      <td>0.001349</td>\n",
       "      <td>0.000675</td>\n",
       "      <td>0.002252</td>\n",
       "    </tr>\n",
       "    <tr>\n",
       "      <th>rest1</th>\n",
       "      <td>0.006188</td>\n",
       "      <td>0.003310</td>\n",
       "      <td>0.003793</td>\n",
       "      <td>0.002258</td>\n",
       "      <td>0.003516</td>\n",
       "      <td>0.003919</td>\n",
       "      <td>0.004323</td>\n",
       "      <td>0.002253</td>\n",
       "      <td>0.002851</td>\n",
       "      <td>0.001227</td>\n",
       "      <td>...</td>\n",
       "      <td>0.003557</td>\n",
       "      <td>0.004406</td>\n",
       "      <td>0.005665</td>\n",
       "      <td>0.006650</td>\n",
       "      <td>0.002468</td>\n",
       "      <td>0.002831</td>\n",
       "      <td>0.001438</td>\n",
       "      <td>0.001965</td>\n",
       "      <td>0.001943</td>\n",
       "      <td>0.003670</td>\n",
       "    </tr>\n",
       "  </tbody>\n",
       "</table>\n",
       "<p>5 rows × 380 columns</p>\n",
       "</div>"
      ],
      "text/plain": [
       "            L_V1     L_MST      L_V6      L_V2      L_V3      L_V4      L_V8  \\\n",
       "movie1  0.010915  0.006951  0.011236  0.002412  0.003019  0.004317  0.006295   \n",
       "movie2  0.011814  0.005093  0.012981  0.002458  0.003476  0.004133  0.004394   \n",
       "movie3  0.006119  0.003706  0.005836  0.001073  0.001734  0.002481  0.003579   \n",
       "movie4  0.006566  0.003047  0.004469  0.001145  0.001820  0.001947  0.002813   \n",
       "rest1   0.006188  0.003310  0.003793  0.002258  0.003516  0.003919  0.004323   \n",
       "\n",
       "             L_4      L_3b     L_FEF  ...  hippocampus_left  \\\n",
       "movie1  0.002570  0.003489  0.003482  ...          0.002353   \n",
       "movie2  0.002304  0.004576  0.003166  ...          0.001771   \n",
       "movie3  0.001503  0.002174  0.001582  ...          0.001276   \n",
       "movie4  0.001386  0.002041  0.001208  ...          0.001348   \n",
       "rest1   0.002253  0.002851  0.001227  ...          0.003557   \n",
       "\n",
       "        hippocampus_right  pallidum_left  pallidum_right  putamen_left  \\\n",
       "movie1           0.002499       0.007286        0.008486      0.003764   \n",
       "movie2           0.001712       0.002995        0.002696      0.002825   \n",
       "movie3           0.001430       0.001094        0.000761      0.001204   \n",
       "movie4           0.001681       0.001335        0.001207      0.001735   \n",
       "rest1            0.004406       0.005665        0.006650      0.002468   \n",
       "\n",
       "        putamen_right  thalamus_left  thalamus_right  brainStem       AVG  \n",
       "movie1       0.004628       0.003429        0.003717   0.002505  0.004564  \n",
       "movie2       0.003162       0.002387        0.002684   0.001190  0.003852  \n",
       "movie3       0.001206       0.001011        0.001329   0.000436  0.002498  \n",
       "movie4       0.001611       0.001170        0.001349   0.000675  0.002252  \n",
       "rest1        0.002831       0.001438        0.001965   0.001943  0.003670  \n",
       "\n",
       "[5 rows x 380 columns]"
      ]
     },
     "execution_count": 6,
     "metadata": {},
     "output_type": "execute_result"
    }
   ],
   "source": [
    "mse_sub[1].head()"
   ]
  },
  {
   "cell_type": "code",
   "execution_count": 7,
   "id": "b2324271",
   "metadata": {},
   "outputs": [
    {
     "name": "stdout",
     "output_type": "stream",
     "text": [
      "50\n",
      "50\n",
      "50\n",
      "200\n"
     ]
    }
   ],
   "source": [
    "# get 50 * MSE values for movie1 session\n",
    "mse_movie1 = []\n",
    "for sub in mse_sub:\n",
    "    mse_movie1.append(sub.loc['movie1', 'AVG'])\n",
    "print(len(mse_movie1))\n",
    "\n",
    "mse_retbar1 = []\n",
    "for sub in mse_sub:\n",
    "    mse_retbar1.append(sub.loc['retbar1', 'AVG'])\n",
    "print(len(mse_retbar1))\n",
    "\n",
    "# get 50 * MSE values for rest1 session\n",
    "mse_rest1 = []\n",
    "for sub in mse_sub:\n",
    "    mse_rest1.append(sub.loc['rest1', 'AVG'])\n",
    "print(len(mse_rest1))\n",
    "\n",
    "# get 200 * MSE values for rest sessions\n",
    "mse_rest_all = []\n",
    "for sub in mse_sub:\n",
    "    mse_rest_all.append(sub.loc['rest1', 'AVG'])\n",
    "    mse_rest_all.append(sub.loc['rest2', 'AVG'])\n",
    "    mse_rest_all.append(sub.loc['rest3', 'AVG'])\n",
    "    mse_rest_all.append(sub.loc['rest4', 'AVG'])\n",
    "print(len(mse_rest_all))"
   ]
  },
  {
   "cell_type": "markdown",
   "id": "dd268ca9",
   "metadata": {},
   "source": [
    "### T-test"
   ]
  },
  {
   "cell_type": "markdown",
   "id": "f12eb56b",
   "metadata": {},
   "source": [
    "#### Paired t-test for 50(movie1):50(rest1)"
   ]
  },
  {
   "cell_type": "code",
   "execution_count": 8,
   "id": "eb4bcbaf",
   "metadata": {
    "scrolled": true
   },
   "outputs": [
    {
     "name": "stdout",
     "output_type": "stream",
     "text": [
      "Use Scipy\n",
      "t-statsitic = 0.3208405039422869\n",
      "p-value = 0.7496956687154361\n"
     ]
    }
   ],
   "source": [
    "# Paired t-test for 50(movie1):50(rest1)\n",
    "t_stat_1, p_1 = st.ttest_rel(a=mse_movie1, b=mse_rest1)\n",
    "print('Use Scipy')\n",
    "print('t-statsitic = ' + str(t_stat_1))\n",
    "print('p-value = ' + str(p_1))"
   ]
  },
  {
   "cell_type": "code",
   "execution_count": 9,
   "id": "9f637e12",
   "metadata": {},
   "outputs": [],
   "source": [
    "# # 2 sample t-test for 50(movie1):50(rest1)\n",
    "# df_list_1 = []\n",
    "# for n in mse_movie1:\n",
    "#     df_list_1.append(['movie1', n])\n",
    "# for n in mse_rest1:\n",
    "#     df_list_1.append(['rest1', n])\n",
    "# df_1 = pd.DataFrame(df_list_1, columns=['type', 'MSE'])\n",
    "\n",
    "# te = stat()\n",
    "# te.ttest(df=df_1, xfac=\"type\", res=\"MSE\", test_type=2)\n",
    "# print(te.summary)"
   ]
  },
  {
   "cell_type": "markdown",
   "id": "fa0991cf",
   "metadata": {},
   "source": [
    "#### 2 sample t-test for 50(movie1):200(rest_all)"
   ]
  },
  {
   "cell_type": "code",
   "execution_count": 10,
   "id": "b23785cd",
   "metadata": {},
   "outputs": [
    {
     "name": "stdout",
     "output_type": "stream",
     "text": [
      "2 sample t-test for 50(movie1):200(rest_all)\n",
      "t-statsitic = 1.5099409755381492\n",
      "p-value = 0.13233149870616412\n"
     ]
    }
   ],
   "source": [
    "# 2 sample t-test for 50(movie1):200(rest_all)\n",
    "t_stat_2, p_2 = st.ttest_ind(a=mse_movie1, b=mse_rest_all)\n",
    "print('2 sample t-test for 50(movie1):200(rest_all)')\n",
    "print('t-statsitic = ' + str(t_stat_2))\n",
    "print('p-value = ' + str(p_2))"
   ]
  },
  {
   "cell_type": "code",
   "execution_count": 11,
   "id": "0b64bb9e",
   "metadata": {},
   "outputs": [
    {
     "name": "stdout",
     "output_type": "stream",
     "text": [
      "\n",
      "Two sample t-test with equal variance\n",
      "\n",
      "------------------  -------------\n",
      "Mean diff             0.000163031\n",
      "t                     1.50994\n",
      "Std Error             0.000107972\n",
      "df                  248\n",
      "P-value (one-tail)    0.0661657\n",
      "P-value (two-tail)    0.132331\n",
      "Lower 95.0%          -4.96275e-05\n",
      "Upper 95.0%           0.000375689\n",
      "------------------  -------------\n",
      "\n",
      "Parameter estimates\n",
      "\n",
      "Level      Number        Mean      Std Dev    Std Error    Lower 95.0%    Upper 95.0%\n",
      "-------  --------  ----------  -----------  -----------  -------------  -------------\n",
      "movie1         50  0.0035813   0.00062311   8.81211e-05     0.00340421     0.00375839\n",
      "rest          200  0.00341827  0.000696802  4.92713e-05     0.00332111     0.00351543\n",
      "\n"
     ]
    }
   ],
   "source": [
    "# 2 sample t-test for 50(movie1):200(rest_all)\n",
    "df_list_2 = []\n",
    "for n in mse_movie1:\n",
    "    df_list_2.append(['movie1', n])\n",
    "for n in mse_rest_all:\n",
    "    df_list_2.append(['rest', n])\n",
    "df_2 = pd.DataFrame(df_list_2, columns=['type', 'MSE'])\n",
    "\n",
    "te = stat()\n",
    "te.ttest(df=df_2, xfac=\"type\", res=\"MSE\", test_type=2)\n",
    "print(te.summary)"
   ]
  },
  {
   "cell_type": "markdown",
   "id": "21e51752",
   "metadata": {},
   "source": [
    "#### Paired t-test for 50(retbar1):50(rest1)"
   ]
  },
  {
   "cell_type": "code",
   "execution_count": 12,
   "id": "8a44b97e",
   "metadata": {},
   "outputs": [
    {
     "name": "stdout",
     "output_type": "stream",
     "text": [
      "2 sample t-test for 50(retbar1):50(rest1)\n",
      "t-statsitic = 7.712482445684847\n",
      "p-value = 5.270505185439038e-10\n"
     ]
    }
   ],
   "source": [
    "# Paired t-test for 50(retbar1):50(rest1)\n",
    "t_stat_3, p_3 = st.ttest_rel(a=mse_retbar1, b=mse_rest1)\n",
    "print('2 sample t-test for 50(retbar1):50(rest1)')\n",
    "print('t-statsitic = ' + str(t_stat_3))\n",
    "print('p-value = ' + str(p_3))"
   ]
  },
  {
   "cell_type": "code",
   "execution_count": 13,
   "id": "3a5706bc",
   "metadata": {},
   "outputs": [],
   "source": [
    "# # 2 sample t-test for 50(retbar1):200(rest_all)\n",
    "# df_list_3 = []\n",
    "# for n in mse_retbar1:\n",
    "#     df_list_3.append(['retbar1', n])\n",
    "# for n in mse_rest1:\n",
    "#     df_list_3.append(['rest1', n])\n",
    "# df_3 = pd.DataFrame(df_list_3, columns=['type', 'MSE'])\n",
    "\n",
    "# te = stat()\n",
    "# te.ttest(df=df_3, xfac=\"type\", res=\"MSE\", test_type=2)\n",
    "# print(te.summary)"
   ]
  },
  {
   "cell_type": "markdown",
   "id": "3285f469",
   "metadata": {},
   "source": [
    "#### 2 sample t-test for 50(retbar1):200(rest_all)"
   ]
  },
  {
   "cell_type": "code",
   "execution_count": 14,
   "id": "33e7c8a9",
   "metadata": {},
   "outputs": [
    {
     "name": "stdout",
     "output_type": "stream",
     "text": [
      "2 sample t-test for 50(retbar1):200(rest_all)\n",
      "t-statsitic = 9.13072219138085\n",
      "p-value = 1.7498329956570778e-13\n"
     ]
    }
   ],
   "source": [
    "# 2 sample t-test for 50(retbar1):200(rest_all)\n",
    "t_stat_4, p_4 = st.ttest_ind(a=mse_retbar1, b=mse_rest_all, equal_var=False)\n",
    "print('2 sample t-test for 50(retbar1):200(rest_all)')\n",
    "print('t-statsitic = ' + str(t_stat_4))\n",
    "print('p-value = ' + str(p_4))"
   ]
  },
  {
   "cell_type": "code",
   "execution_count": 15,
   "id": "487611aa",
   "metadata": {},
   "outputs": [
    {
     "name": "stdout",
     "output_type": "stream",
     "text": [
      "\n",
      "Two sample t-test with unequal variance (Welch's t-test)\n",
      "\n",
      "------------------  ------------\n",
      "Mean diff           -0.00112323\n",
      "t                   -9.13072\n",
      "Std Error            0.000123017\n",
      "df                  68.8948\n",
      "P-value (one-tail)   8.74916e-14\n",
      "P-value (two-tail)   1.74983e-13\n",
      "Lower 95.0%         -0.00136865\n",
      "Upper 95.0%         -0.000877812\n",
      "------------------  ------------\n",
      "\n",
      "Parameter estimates\n",
      "\n",
      "Level      Number        Mean      Std Dev    Std Error    Lower 95.0%    Upper 95.0%\n",
      "-------  --------  ----------  -----------  -----------  -------------  -------------\n",
      "rest          200  0.00341827  0.000696802  4.92713e-05     0.00332111     0.00351543\n",
      "retbar1        50  0.0045415   0.000797038  0.000112718     0.00431498     0.00476801\n",
      "\n"
     ]
    }
   ],
   "source": [
    "# 2 sample t-test for 50(retbar1):200(rest_all)\n",
    "df_list_4 = []\n",
    "for n in mse_retbar1:\n",
    "    df_list_4.append(['retbar1', n])\n",
    "for n in mse_rest_all:\n",
    "    df_list_4.append(['rest', n])\n",
    "df_4 = pd.DataFrame(df_list_4, columns=['type', 'MSE'])\n",
    "\n",
    "te = stat()\n",
    "te.ttest(df=df_4, xfac=\"type\", res=\"MSE\", test_type=2, evar=False)\n",
    "print(te.summary)"
   ]
  }
 ],
 "metadata": {
  "kernelspec": {
   "display_name": "Python 3",
   "language": "python",
   "name": "python3"
  },
  "language_info": {
   "codemirror_mode": {
    "name": "ipython",
    "version": 3
   },
   "file_extension": ".py",
   "mimetype": "text/x-python",
   "name": "python",
   "nbconvert_exporter": "python",
   "pygments_lexer": "ipython3",
   "version": "3.8.8"
  }
 },
 "nbformat": 4,
 "nbformat_minor": 5
}
